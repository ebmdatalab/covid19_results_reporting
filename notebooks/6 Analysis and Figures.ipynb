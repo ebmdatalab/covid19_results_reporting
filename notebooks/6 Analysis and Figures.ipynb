{
 "cells": [
  {
   "cell_type": "code",
   "execution_count": null,
   "metadata": {},
   "outputs": [],
   "source": [
    "import sys\n",
    "from pathlib import Path\n",
    "import os\n",
    "cwd = os.getcwd()\n",
    "parent = str(Path(cwd).parents[0])\n",
    "sys.path.append(parent)"
   ]
  },
  {
   "cell_type": "code",
   "execution_count": null,
   "metadata": {},
   "outputs": [],
   "source": [
    "import schemdraw\n",
    "from schemdraw import flow\n",
    "\n",
    "import pandas as pd\n",
    "import numpy as np\n",
    "\n",
    "from lifelines import KaplanMeierFitter\n",
    "#from lifelines_fix import add_at_risk_counts\n",
    "from lifelines.plotting import add_at_risk_counts\n",
    "from lifelines import AalenJohansenFitter\n",
    "import warnings\n",
    "\n",
    "import matplotlib.pyplot as plt \n",
    "from matplotlib_venn import venn3, venn3_circles, venn3_unweighted\n",
    "from matplotlib import pyplot as plt\n",
    "%matplotlib inline"
   ]
  },
  {
   "cell_type": "markdown",
   "metadata": {},
   "source": [
    "# Setup for Survival Plots"
   ]
  },
  {
   "cell_type": "code",
   "execution_count": null,
   "metadata": {},
   "outputs": [],
   "source": [
    "df = pd.read_csv('https://raw.githubusercontent.com/maia-sh/direcct/master/data/reporting/kaplan-meier-time-to-pub.csv')\n",
    "df.head()"
   ]
  },
  {
   "cell_type": "markdown",
   "metadata": {},
   "source": [
    "**Specific setup for Competing Risks**\n",
    "\n",
    "This prepares the dataset and does a little extra work so we can plot censors for the A-J curve."
   ]
  },
  {
   "cell_type": "code",
   "execution_count": null,
   "metadata": {},
   "outputs": [],
   "source": [
    "competing_risks = df[['id', \n",
    "                      'date_completion', \n",
    "                      'date_publication_any', \n",
    "                      'date_publication_article', \n",
    "                      'date_publication_preprint', \n",
    "                      'date_cutoff', \n",
    "                      'time_publication_article', \n",
    "                      'time_publication_preprint']].reset_index(drop=True)\n",
    "\n",
    "for x in competing_risks.columns:\n",
    "    if 'date' in x:\n",
    "        competing_risks[x] = pd.to_datetime(competing_risks[x])"
   ]
  },
  {
   "cell_type": "code",
   "execution_count": null,
   "metadata": {},
   "outputs": [],
   "source": [
    "cr_conds = [\n",
    "    competing_risks.time_publication_preprint <= competing_risks.time_publication_article,\n",
    "    (competing_risks.date_publication_article.notnull() & competing_risks.date_publication_preprint.isna())]\n",
    "\n",
    "cr_out = [competing_risks.time_publication_preprint, competing_risks.time_publication_article]\n",
    "\n",
    "competing_risks['time_cr'] = np.select(cr_conds, cr_out)\n",
    "\n",
    "cr_event_conds = [\n",
    "    competing_risks.date_publication_preprint.notnull(),\n",
    "    competing_risks.date_publication_preprint.isna() & competing_risks.date_publication_article.notnull(),\n",
    "    competing_risks.date_publication_preprint.isna() & competing_risks.date_publication_article.isna()]\n",
    "\n",
    "cr_event_out = [1, 2, 0]\n",
    "\n",
    "competing_risks['event_cr'] = np.select(cr_event_conds, cr_event_out)\n",
    "competing_risks['time_cr'] = np.where(competing_risks['time_cr'] < 0, 0 ,competing_risks['time_cr'])"
   ]
  },
  {
   "cell_type": "code",
   "execution_count": null,
   "metadata": {},
   "outputs": [],
   "source": [
    "d = competing_risks[['time_cr', 'event_cr']].reset_index(drop=True)\n",
    "d = d.set_index('time_cr')"
   ]
  },
  {
   "cell_type": "code",
   "execution_count": null,
   "metadata": {},
   "outputs": [],
   "source": [
    "aj = AalenJohansenFitter(seed=10)\n",
    "\n",
    "with warnings.catch_warnings():\n",
    "    warnings.simplefilter('ignore')\n",
    "    aj.fit(competing_risks.time_cr, competing_risks.event_cr, event_of_interest=1)"
   ]
  },
  {
   "cell_type": "code",
   "execution_count": null,
   "metadata": {},
   "outputs": [],
   "source": [
    "aj_corrected = aj.cumulative_density_.reset_index()\n",
    "aj_corrected = aj_corrected.set_index(aj_corrected.event_at.apply(round)).drop('event_at', axis=1)"
   ]
  },
  {
   "cell_type": "code",
   "execution_count": null,
   "metadata": {},
   "outputs": [],
   "source": [
    "d = aj_corrected.merge(d, how='outer', left_index=True, right_index=True)\n",
    "d = d.loc[d['event_cr'] == 0].copy()"
   ]
  },
  {
   "cell_type": "markdown",
   "metadata": {},
   "source": [
    "# Individual Cumulative Incidence Curves"
   ]
  },
  {
   "cell_type": "code",
   "execution_count": null,
   "metadata": {},
   "outputs": [],
   "source": [
    "any_pub = df[['publication_any', 'time_publication_any']].reset_index(drop=True)\n",
    "any_pub['publication_any'] = any_pub['publication_any'].astype(int)\n",
    "any_pub['time_publication_any'] = np.where(any_pub['time_publication_any'] < 0, 0, any_pub['time_publication_any'])"
   ]
  },
  {
   "cell_type": "code",
   "execution_count": null,
   "metadata": {},
   "outputs": [],
   "source": [
    "yticks = list(np.arange(0,.4,.05))\n",
    "fig = plt.figure(dpi=300)\n",
    "ax = plt.subplot()\n",
    "\n",
    "T = any_pub.time_publication_any\n",
    "E = any_pub.publication_any\n",
    "\n",
    "kmf_any = KaplanMeierFitter()\n",
    "kmf_any.fit(T, E)\n",
    "#ax = kmf_any.plot(ci_show=False, show_censors=True, censor_styles={'ms':10, 'marker':'|'}, yticks=yticks, figsize=(15, 10), grid=True, legend=False, ax=ax, lw=2.5)\n",
    "ax = kmf_any.plot_cumulative_density(ci_show=False, show_censors=True, censor_styles={'ms':10, 'marker':'|'}, \n",
    "                                     yticks=yticks, figsize=(15, 10), grid=True, legend=False, ax=ax, lw=2.5)\n",
    "\n",
    "plt.title(\"Time To Results Dissemination From Registered Completion Date\", pad=20, fontsize=20)\n",
    "plt.ylabel('Proportion Reported', labelpad=10, fontsize=14)\n",
    "plt.xlabel('Days to Any Result from Registered Completion', labelpad=10, fontsize=14)\n",
    "\n",
    "from lifelines.plotting import add_at_risk_counts\n",
    "add_at_risk_counts(kmf_any, rows_to_show = ['At risk'], ax=ax)\n",
    "plt.tight_layout()"
   ]
  },
  {
   "cell_type": "code",
   "execution_count": null,
   "metadata": {},
   "outputs": [],
   "source": [
    "#Use this to check when it passes 20%\n",
    "kmf_any.cumulative_density_.tail(20)"
   ]
  },
  {
   "cell_type": "code",
   "execution_count": null,
   "metadata": {},
   "outputs": [],
   "source": [
    "article_pub = df[['publication_article', 'time_publication_article']].reset_index(drop=True)\n",
    "article_pub['publication_article'] = article_pub['publication_article'].astype(int)\n",
    "article_pub['time_publication_article'] = np.where(article_pub['time_publication_article'] < 0, 0, article_pub['time_publication_article'])"
   ]
  },
  {
   "cell_type": "code",
   "execution_count": null,
   "metadata": {},
   "outputs": [],
   "source": [
    "yticks = list(np.arange(0,.3,.05))\n",
    "fig = plt.figure(dpi=300)\n",
    "ax = plt.subplot()\n",
    "\n",
    "T = article_pub.time_publication_article\n",
    "E = article_pub.publication_article\n",
    "\n",
    "kmf_article = KaplanMeierFitter()\n",
    "kmf_article.fit(T, E)\n",
    "#ax = kmf_any.plot(ci_show=False, show_censors=True, censor_styles={'ms':10, 'marker':'|'}, yticks=yticks, figsize=(15, 10), grid=True, legend=False, ax=ax, lw=2.5)\n",
    "ax = kmf_article.plot_cumulative_density(ci_show=False, show_censors=True, censor_styles={'ms':10, 'marker':'|'}, \n",
    "                                     yticks=yticks, figsize=(15, 10), grid=True, legend=False, ax=ax, lw=2.5)\n",
    "\n",
    "plt.title(\"Time To Journal Publication From Primary Completion\", pad=20, fontsize=20)\n",
    "plt.ylabel('Reporting', labelpad=10, fontsize=14)\n",
    "plt.xlabel('Days to Journal Publication', labelpad=10, fontsize=14)\n",
    "\n",
    "add_at_risk_counts(kmf_article, rows_to_show = ['At risk'], ax=ax)\n",
    "plt.tight_layout()"
   ]
  },
  {
   "cell_type": "code",
   "execution_count": null,
   "metadata": {},
   "outputs": [],
   "source": [
    "yticks = list(np.arange(0,.2,.05))\n",
    "fig = plt.figure(dpi=300)\n",
    "ax = plt.subplot()\n",
    "\n",
    "aj = AalenJohansenFitter(seed=10)\n",
    "\n",
    "with warnings.catch_warnings():\n",
    "    warnings.simplefilter('ignore')\n",
    "    aj.fit(competing_risks.time_cr, competing_risks.event_cr, event_of_interest=1)\n",
    "aj.plot(yticks=yticks, figsize=(15,10), lw=2.5, legend=None, grid=True)\n",
    "plt.plot(d.index, d['CIF_1'], '|', markersize=10, color='C0')\n",
    "\n",
    "plt.title('Time to Preprint Publication', pad=15, fontsize=20)\n",
    "plt.ylabel('Proportion Reported', labelpad=10, fontsize=15)\n",
    "plt.xlabel('Days From Completion', labelpad=10, fontsize=12)\n",
    "\n",
    "\n",
    "from lifelines.plotting import add_at_risk_counts\n",
    "add_at_risk_counts(aj, rows_to_show = ['At risk'])\n",
    "plt.tight_layout()\n",
    "plt.show()"
   ]
  },
  {
   "cell_type": "markdown",
   "metadata": {},
   "source": [
    "# Putting curves in a single figure"
   ]
  },
  {
   "cell_type": "code",
   "execution_count": null,
   "metadata": {},
   "outputs": [],
   "source": [
    "figsize = (20,20)\n",
    "\n",
    "yticks = list(np.arange(0, .4, .05))\n",
    "fig = plt.figure(dpi=200)\n",
    "fig.suptitle(\"Time to Results Across Dissemination Routes\", x=.5, y=1.05, fontsize=25)\n",
    "\n",
    "ax1 = plt.subplot(311)\n",
    "kmf_any = KaplanMeierFitter().fit(any_pub.time_publication_any, any_pub.publication_any)\n",
    "kmf_any.plot_cumulative_density(ci_show=True, show_censors=True, censor_styles={'ms':12, 'marker':'|'}, yticks=yticks, \n",
    "                 figsize=figsize, grid=True, legend=False, ax=ax1, lw=2.5, color = '#2D8E87')\n",
    "\n",
    "plt.ylabel('Proportion Reported', labelpad=10, fontsize=14)\n",
    "plt.xlabel('Days From Completion', labelpad=10, fontsize=14)\n",
    "plt.title('Time to Any Results Dissemination', pad=15, fontsize=18)\n",
    "\n",
    "ax1.tick_params(labelsize=14)\n",
    "add_at_risk_counts(kmf_any, labels=[''], rows_to_show = ['At risk'], ax=ax1, fontsize=14)\n",
    "\n",
    "#Plot 2\n",
    "ax2 = plt.subplot(312)\n",
    "kmf_article = KaplanMeierFitter().fit(article_pub.time_publication_article, article_pub.publication_article)\n",
    "kmf_article.plot_cumulative_density(ci_show=True, show_censors=True, censor_styles={'ms':12, 'marker':'|'}, yticks=yticks, \n",
    "                 figsize=figsize, grid=True, legend=False, ax=ax2, lw=2.5, color = '#2D8E87')\n",
    "\n",
    "plt.ylabel('Proportion Reported', labelpad=10, fontsize=14)\n",
    "plt.xlabel('Days From Completion', labelpad=10, fontsize=14)\n",
    "plt.title('Time to Journal Publication', pad=15, fontsize=18)\n",
    "\n",
    "ax2.tick_params(labelsize=14)\n",
    "add_at_risk_counts(kmf_article, labels=[''], rows_to_show = ['At risk'], ax=ax2, fontsize=14)\n",
    "\n",
    "#plot3\n",
    "ax3 = plt.subplot(313)\n",
    "aj = AalenJohansenFitter(seed=10)\n",
    "with warnings.catch_warnings():\n",
    "    warnings.simplefilter('ignore')\n",
    "    aj.fit(competing_risks.time_cr, competing_risks.event_cr, event_of_interest=1)\n",
    "aj.plot(yticks=yticks, figsize=figsize, lw=2.5, legend=None, grid=True, ax=ax3, color = '#2D8E87')\n",
    "plt.plot(d.index, d['CIF_1'], '|', markersize=12, color='C0', markeredgecolor='#2D8E87')\n",
    "\n",
    "plt.ylabel('Proportion Reported', labelpad=10, fontsize=14)\n",
    "plt.xlabel('Days From Completion', labelpad=10, fontsize=14)\n",
    "plt.title('Time to Preprint Publication', pad=15, fontsize=18)\n",
    "\n",
    "ax3.tick_params(labelsize=14)\n",
    "add_at_risk_counts(aj, labels=[''], rows_to_show = ['At risk'], ax=ax3, fontsize=14)\n",
    "\n",
    "plt.subplots_adjust(hspace=.2)\n",
    "plt.tight_layout()\n",
    "plt.show()\n",
    "fig.savefig('Figures/km_curves.jpeg')"
   ]
  },
  {
   "cell_type": "markdown",
   "metadata": {},
   "source": [
    "# 3 month follow-up data"
   ]
  },
  {
   "cell_type": "code",
   "execution_count": null,
   "metadata": {},
   "outputs": [],
   "source": [
    "df_3mon = pd.read_csv('https://raw.githubusercontent.com/maia-sh/direcct/master/data/reporting/kaplan-meier-time-to-pub_3-mo.csv')"
   ]
  },
  {
   "cell_type": "code",
   "execution_count": null,
   "metadata": {},
   "outputs": [],
   "source": [
    "any_pub_3 = df_3mon[['publication_any', 'time_publication_any']].reset_index(drop=True)\n",
    "any_pub_3['publication_any'] = any_pub_3['publication_any'].astype(int)\n",
    "any_pub_3[any_pub_3 < 0] = 0"
   ]
  },
  {
   "cell_type": "code",
   "execution_count": null,
   "metadata": {},
   "outputs": [],
   "source": [
    "yticks = list(np.arange(0,.4,.1))\n",
    "fig = plt.figure(dpi=300)\n",
    "ax = plt.subplot()\n",
    "\n",
    "kmf_3mo = KaplanMeierFitter()\n",
    "kmf_3mo.fit(any_pub_3.time_publication_any, any_pub_3.publication_any)\n",
    "#ax = kmf_any.plot(ci_show=False, show_censors=True, censor_styles={'ms':10, 'marker':'|'}, yticks=yticks, figsize=(15, 10), grid=True, legend=False, ax=ax, lw=2.5)\n",
    "ax = kmf_3mo.plot_cumulative_density(ci_show=True, show_censors=True, censor_styles={'ms':10, 'marker':'|'}, \n",
    "                                     yticks=yticks, figsize=(15, 10), grid=True, legend=False, ax=ax, lw=2.5)\n",
    "\n",
    "plt.title(\"Time To Results Dissemination From Registered Completion Date - Extended Follow-up\", pad=20, fontsize=20)\n",
    "plt.ylabel('Proportion Reported', labelpad=10, fontsize=14)\n",
    "plt.xlabel('Days to Any Result from Registered Completion', labelpad=10, fontsize=14)\n",
    "ax.tick_params(labelsize=12)\n",
    "\n",
    "from lifelines.plotting import add_at_risk_counts\n",
    "add_at_risk_counts(kmf_3mo, rows_to_show = ['At risk'], ax=ax, fontsize=12)\n",
    "plt.tight_layout()\n",
    "plt.savefig('Figures/extended_km.jpeg')"
   ]
  },
  {
   "cell_type": "markdown",
   "metadata": {},
   "source": [
    "# Flowchart - Inclusion/Exclusion"
   ]
  },
  {
   "cell_type": "code",
   "execution_count": null,
   "metadata": {},
   "outputs": [],
   "source": [
    "d = schemdraw.Drawing()\n",
    "total = d.add(flow.Box(w=10, h=2, label= 'Registered COVID-19 Studies on ICTRP\\n(N=3,844)'))\n",
    "d.add(flow.Arrow('down', l=11))\n",
    "d.add(flow.Arrow('right', at=(0, -3.5)))\n",
    "cross_reg = d.add(flow.Box(w=6.5, h=2, label=f'Known Cross-Registrations\\n(n={3844-3749})', anchor='W'))\n",
    "d.add(flow.Arrow('right', at=(0, -6)))\n",
    "pre2020 = d.add(flow.Box(w=6.5, h=2, label='Registered Prior to 2020\\n(n=18)', anchor='W'))\n",
    "d.add(flow.Arrow('right', at=(0,-8.5)))\n",
    "non_int = d.add(flow.Box(w=6.5, h=2, label='Not Interventional\\n(n=1,565)', anchor='W'))\n",
    "d.add(flow.Arrow('right', at=(0,-11)))\n",
    "withdrawn = d.add(flow.Box(w=6.5, h=2, label='Withdrawn on ICTRP\\n(n=45)', anchor='W'))\n",
    "\n",
    "auto_total = d.add(flow.Box(w=10, h=2, at=(0,-13), label='Passed Automated Inclusion\\n(n=2121)'))\n",
    "d.add(flow.Arrow('down', l=13))\n",
    "d.add(flow.Arrow('right', at=(0, -16.5)))\n",
    "completed = d.add(flow.Box(w=6.5, h=2, label='Completion > 30 June 2020\\n(n=1724)', anchor='W'))\n",
    "d.add(flow.Arrow('right', at=(0, -19)))\n",
    "not_trial = d.add(flow.Box(w=6.5, h=2, label='Not a Clincial Trial\\n(n=22)', anchor='W'))\n",
    "d.add(flow.Arrow('right', at=(0, -21.5)))\n",
    "not_covid = d.add(flow.Box(w=6.5, h=2, label='Not on Treatment/Prevention\\n(n=83)', anchor='W'))\n",
    "d.add(flow.Arrow('right', at=(0, -24)))\n",
    "withdrawn_2 = d.add(flow.Box(w=6.5, h=2, label='Withdrawn on Manual Review\\n(n=5)', anchor='W'))\n",
    "d.add(flow.Arrow('right', at=(0, -26.5)))\n",
    "man_dupes = d.add(flow.Box(w=6.5, h=2, label='Manual De-duplication\\n(n=2)', anchor='W'))\n",
    "\n",
    "final_total = d.add(flow.Box(w=10, h=2, at=(0,-28), label='Final Dataset\\n(n=285)'))\n",
    "\n",
    "d.save('Figures/flowchart_covid_2021.jpeg', dpi=300)\n",
    "d.draw()"
   ]
  },
  {
   "cell_type": "markdown",
   "metadata": {},
   "source": [
    "# Flow Chart - Results"
   ]
  },
  {
   "cell_type": "code",
   "execution_count": null,
   "metadata": {},
   "outputs": [],
   "source": [
    "d = schemdraw.Drawing()\n",
    "total = d.add(flow.Box(w=8, h=2, label= '124 Results Located'))\n",
    "d.add(flow.Arrow('down', l=16))\n",
    "d.add(flow.Arrow('right', at=(0, -3.5)))\n",
    "no_trial_id = d.add(flow.Box(w=6.5, h=2, label=f'Could not link to trial ID\\n(n=5)', anchor='W'))\n",
    "d.add(flow.Arrow('right', at=(0, -6)))\n",
    "no_comp = d.add(flow.Box(w=6.5, h=2, label='No known completion date\\n(n=8)', anchor='W'))\n",
    "d.add(flow.Arrow('right', at=(0,-8.5)))\n",
    "post_cutoff = d.add(flow.Box(w=6.5, h=2, label='Registered Completion\\nafter 30 June 2020\\n(n=23)', anchor='W'))\n",
    "d.add(flow.Arrow('right', at=(0,-11)))\n",
    "pub_missing = d.add(flow.Box(w=6.5, h=2, label='No publication date\\n(n=1)', anchor='W'))\n",
    "d.add(flow.Arrow('right', at=(0, -13.5)))\n",
    "post_follow_up = d.add(flow.Box(w=6.5, h=2, label='Published after\\n15 August 2020\\n(n=39)', anchor='W'))\n",
    "d.add(flow.Arrow('right', at=(0,-16)))\n",
    "excluded = d.add(flow.Box(w=6.5, h=2, label='Publication identified\\nas retrosepctive\\n(n=1)', anchor='W'))\n",
    "final_total = d.add(flow.Box(w=10, h=2, at=(0,-18), label='Results Included\\n(n=47)'))\n",
    "\n",
    "d.save('Figures/results_flowchart_covid_2021.jpeg', dpi=300)\n",
    "d.draw()"
   ]
  },
  {
   "cell_type": "code",
   "execution_count": null,
   "metadata": {},
   "outputs": [],
   "source": []
  },
  {
   "cell_type": "code",
   "execution_count": null,
   "metadata": {},
   "outputs": [],
   "source": []
  }
 ],
 "metadata": {
  "jupytext": {
   "cell_metadata_filter": "all",
   "notebook_metadata_filter": "all,-language_info",
   "text_representation": {
    "extension": ".py",
    "format_name": "light",
    "format_version": "1.5",
    "jupytext_version": "1.3.3"
   }
  },
  "kernelspec": {
   "display_name": "Python 3",
   "language": "python",
   "name": "python3"
  },
  "language_info": {
   "codemirror_mode": {
    "name": "ipython",
    "version": 3
   },
   "file_extension": ".py",
   "mimetype": "text/x-python",
   "name": "python",
   "nbconvert_exporter": "python",
   "pygments_lexer": "ipython3",
   "version": "3.8.1"
  }
 },
 "nbformat": 4,
 "nbformat_minor": 4
}
