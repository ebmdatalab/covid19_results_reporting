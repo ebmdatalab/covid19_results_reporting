{
 "cells": [
  {
   "cell_type": "code",
   "execution_count": 1,
   "metadata": {},
   "outputs": [],
   "source": [
    "import sys\n",
    "from pathlib import Path\n",
    "import os\n",
    "cwd = os.getcwd()\n",
    "parent = str(Path(cwd).parents[0])\n",
    "sys.path.append(parent)"
   ]
  },
  {
   "cell_type": "code",
   "execution_count": 2,
   "metadata": {},
   "outputs": [],
   "source": [
    "import pandas as pd\n",
    "import numpy as np"
   ]
  },
  {
   "cell_type": "code",
   "execution_count": 3,
   "metadata": {},
   "outputs": [],
   "source": [
    "df = pd.read_csv(parent + '/data/cleaned_ictrp_29June2020.csv').drop('index', axis=1)"
   ]
  },
  {
   "cell_type": "code",
   "execution_count": 4,
   "metadata": {},
   "outputs": [],
   "source": [
    "df['date_registration'] = pd.to_datetime(df['date_registration'])"
   ]
  },
  {
   "cell_type": "code",
   "execution_count": 5,
   "metadata": {},
   "outputs": [],
   "source": [
    "#exclusion logic\n",
    "\n",
    "int_prev = ((df.study_type == 'Interventional') | (df.study_type == 'Prevention'))\n",
    "\n",
    "in_2020 = (df.date_registration >= pd.Timestamp(2020,1,1))\n",
    "\n",
    "#At the moment, this deals with withdrawn trials from the ChiCTR. Data from other registries doesn't\n",
    "#Reliable make it to the ICTRP. We will exclude withdrawn trials from ClinicalTrials.gov\n",
    "#When we join that in below.\n",
    "withdrawn = ~((df.public_title.str.contains('Cancelled')) | df.public_title.str.contains('Retracted due to'))"
   ]
  },
  {
   "cell_type": "code",
   "execution_count": 6,
   "metadata": {},
   "outputs": [],
   "source": [
    "df['included'] = np.where(int_prev & in_2020 & withdrawn, 1, 0)"
   ]
  },
  {
   "cell_type": "code",
   "execution_count": 8,
   "metadata": {},
   "outputs": [],
   "source": [
    "registry_data = pd.read_csv(parent + '/data/registry_data/registry_data_clean.csv')"
   ]
  },
  {
   "cell_type": "code",
   "execution_count": 9,
   "metadata": {},
   "outputs": [],
   "source": [
    "#Taking only what we need to join\n",
    "reg_cols = ['trial_id', 'trial_status', 'pcd', 'scd', 'relevent_comp_date', 'tabular_results', \n",
    "            'potential_other_results']\n",
    "\n",
    "\n",
    "df_reg_merge = df.merge(registry_data[reg_cols], how='left', left_on='trialid', \n",
    "                        right_on='trial_id').drop('trial_id', axis=1)\n",
    "\n",
    "df_reg_merge['tabular_results'] = df_reg_merge['tabular_results'].fillna(0).astype(int)\n",
    "df_reg_merge['potential_other_results'] = df_reg_merge['potential_other_results'].fillna(0).astype(int)"
   ]
  },
  {
   "cell_type": "code",
   "execution_count": 10,
   "metadata": {},
   "outputs": [],
   "source": [
    "#excluding more withdrawn trials\n",
    "\n",
    "df_reg_merge['included'] = np.where((df_reg_merge.trial_status == 'Withdrawn'), 0, df_reg_merge['included'])\n",
    "df_reg_merge = df_reg_merge.drop('trial_status', axis=1)"
   ]
  },
  {
   "cell_type": "code",
   "execution_count": 11,
   "metadata": {},
   "outputs": [],
   "source": [
    "auto_hits = pd.read_csv(parent + '/data/screening_hit_results.csv')"
   ]
  },
  {
   "cell_type": "code",
   "execution_count": 12,
   "metadata": {},
   "outputs": [],
   "source": [
    "def group_rules(grp):\n",
    "    l = []\n",
    "    for x in grp:\n",
    "        if x in l:\n",
    "            pass\n",
    "        else:\n",
    "            l.append(x)\n",
    "    if len(l) == 0:\n",
    "        return np.nan\n",
    "    else:\n",
    "        return l\n",
    "\n",
    "def max_list_size(column):\n",
    "    max_size = 0\n",
    "    for x in column:\n",
    "        if len(x) > max_size:\n",
    "            max_size = len(x)\n",
    "    return max_size"
   ]
  },
  {
   "cell_type": "code",
   "execution_count": 13,
   "metadata": {},
   "outputs": [],
   "source": [
    "group_auto = auto_hits.groupby('trn_1', as_index=False).agg(group_rules)\n",
    "\n",
    "filtered = group_auto[['trn_1', 'trn_2', 'id', 'doi', 'results_pub_type',  \n",
    "                       'completion_date', 'publication_date']].reset_index(drop=True)\n",
    "\n",
    "rename = ['hit_tid', 'hit_tid2', 'auto_id', 'doi', 'results_pub_type', 'pub_completion_date', 'publication_date']\n",
    "\n",
    "filtered.columns = rename"
   ]
  },
  {
   "cell_type": "code",
   "execution_count": 14,
   "metadata": {},
   "outputs": [],
   "source": [
    "for name in rename[2:]:\n",
    "    col_list = filtered[name].tolist()\n",
    "    max_size = max_list_size(col_list)\n",
    "    cols = [(name + '_{}').format(x) for x in range(1, max_size+1)]\n",
    "    filtered[cols] = pd.DataFrame(col_list, index=filtered.index)\n",
    "    filtered = filtered.drop(name, axis=1)\n",
    "\n",
    "#Fixing this\n",
    "filtered['hit_tid2'] = filtered['hit_tid2'].str[0]"
   ]
  },
  {
   "cell_type": "code",
   "execution_count": 15,
   "metadata": {},
   "outputs": [],
   "source": [
    "df_final = df_reg_merge.merge(filtered, how='left', left_on='trialid', right_on='hit_tid').drop('hit_tid', axis=1)"
   ]
  },
  {
   "cell_type": "code",
   "execution_count": 16,
   "metadata": {},
   "outputs": [
    {
     "data": {
      "text/plain": [
       "{'NCT04323527'}"
      ]
     },
     "execution_count": 16,
     "metadata": {},
     "output_type": "execute_result"
    }
   ],
   "source": [
    "#Check for trials that are in our results but not in the ICTRP dataset\n",
    "\n",
    "a = df_reg_merge.trialid.tolist()\n",
    "b = filtered.hit_tid.tolist()\n",
    "\n",
    "set(b) - set(a)"
   ]
  },
  {
   "cell_type": "code",
   "execution_count": 17,
   "metadata": {},
   "outputs": [
    {
     "data": {
      "text/html": [
       "<div>\n",
       "<style scoped>\n",
       "    .dataframe tbody tr th:only-of-type {\n",
       "        vertical-align: middle;\n",
       "    }\n",
       "\n",
       "    .dataframe tbody tr th {\n",
       "        vertical-align: top;\n",
       "    }\n",
       "\n",
       "    .dataframe thead th {\n",
       "        text-align: right;\n",
       "    }\n",
       "</style>\n",
       "<table border=\"1\" class=\"dataframe\">\n",
       "  <thead>\n",
       "    <tr style=\"text-align: right;\">\n",
       "      <th></th>\n",
       "      <th>trialid</th>\n",
       "      <th>source_register</th>\n",
       "      <th>date_registration</th>\n",
       "      <th>date_enrollement</th>\n",
       "      <th>retrospective_registration</th>\n",
       "      <th>normed_spon_names</th>\n",
       "      <th>recruitment_status</th>\n",
       "      <th>phase</th>\n",
       "      <th>study_type</th>\n",
       "      <th>countries</th>\n",
       "      <th>...</th>\n",
       "      <th>hit_tid2</th>\n",
       "      <th>auto_id_1</th>\n",
       "      <th>auto_id_2</th>\n",
       "      <th>doi_1</th>\n",
       "      <th>doi_2</th>\n",
       "      <th>results_pub_type_1</th>\n",
       "      <th>results_pub_type_2</th>\n",
       "      <th>pub_completion_date_1</th>\n",
       "      <th>publication_date_1</th>\n",
       "      <th>publication_date_2</th>\n",
       "    </tr>\n",
       "  </thead>\n",
       "  <tbody>\n",
       "    <tr>\n",
       "      <th>0</th>\n",
       "      <td>NCT04246242</td>\n",
       "      <td>ClinicalTrials.gov</td>\n",
       "      <td>2020-01-27</td>\n",
       "      <td>2020-01-25</td>\n",
       "      <td>True</td>\n",
       "      <td>Xiangya Hospital of Central South University</td>\n",
       "      <td>Not Recruiting</td>\n",
       "      <td>Phase 4</td>\n",
       "      <td>Interventional</td>\n",
       "      <td>No Country Given</td>\n",
       "      <td>...</td>\n",
       "      <td>NaN</td>\n",
       "      <td>NaN</td>\n",
       "      <td>NaN</td>\n",
       "      <td>NaN</td>\n",
       "      <td>NaN</td>\n",
       "      <td>NaN</td>\n",
       "      <td>NaN</td>\n",
       "      <td>NaN</td>\n",
       "      <td>NaN</td>\n",
       "      <td>NaN</td>\n",
       "    </tr>\n",
       "    <tr>\n",
       "      <th>1</th>\n",
       "      <td>NCT04252885</td>\n",
       "      <td>ClinicalTrials.gov</td>\n",
       "      <td>2020-01-30</td>\n",
       "      <td>2020-01-28</td>\n",
       "      <td>True</td>\n",
       "      <td>Guangzhou 8th People's Hospital</td>\n",
       "      <td>Recruiting</td>\n",
       "      <td>Phase 4</td>\n",
       "      <td>Interventional</td>\n",
       "      <td>China</td>\n",
       "      <td>...</td>\n",
       "      <td>NaN</td>\n",
       "      <td>9hknw4ws</td>\n",
       "      <td>ytqjxzaa</td>\n",
       "      <td>http://doi.org/10.1101/2020.03.19.20038984</td>\n",
       "      <td>http://doi.org/10.1016/j.medj.2020.04.001</td>\n",
       "      <td>full_results_preprint</td>\n",
       "      <td>full_results_journal_article</td>\n",
       "      <td>NaN</td>\n",
       "      <td>15/04/2020</td>\n",
       "      <td>04/05/2020</td>\n",
       "    </tr>\n",
       "    <tr>\n",
       "      <th>2</th>\n",
       "      <td>NCT04255940</td>\n",
       "      <td>ClinicalTrials.gov</td>\n",
       "      <td>2020-02-03</td>\n",
       "      <td>2020-01-20</td>\n",
       "      <td>True</td>\n",
       "      <td>Qilu Hospital of Shandong University</td>\n",
       "      <td>Recruiting</td>\n",
       "      <td>Not Applicable</td>\n",
       "      <td>Observational</td>\n",
       "      <td>China</td>\n",
       "      <td>...</td>\n",
       "      <td>NaN</td>\n",
       "      <td>NaN</td>\n",
       "      <td>NaN</td>\n",
       "      <td>NaN</td>\n",
       "      <td>NaN</td>\n",
       "      <td>NaN</td>\n",
       "      <td>NaN</td>\n",
       "      <td>NaN</td>\n",
       "      <td>NaN</td>\n",
       "      <td>NaN</td>\n",
       "    </tr>\n",
       "    <tr>\n",
       "      <th>3</th>\n",
       "      <td>NCT04260308</td>\n",
       "      <td>ClinicalTrials.gov</td>\n",
       "      <td>2020-02-03</td>\n",
       "      <td>2020-02-03</td>\n",
       "      <td>False</td>\n",
       "      <td>Huazhong University of Science and Technology</td>\n",
       "      <td>Recruiting</td>\n",
       "      <td>Not Applicable</td>\n",
       "      <td>Observational</td>\n",
       "      <td>China</td>\n",
       "      <td>...</td>\n",
       "      <td>NaN</td>\n",
       "      <td>NaN</td>\n",
       "      <td>NaN</td>\n",
       "      <td>NaN</td>\n",
       "      <td>NaN</td>\n",
       "      <td>NaN</td>\n",
       "      <td>NaN</td>\n",
       "      <td>NaN</td>\n",
       "      <td>NaN</td>\n",
       "      <td>NaN</td>\n",
       "    </tr>\n",
       "    <tr>\n",
       "      <th>4</th>\n",
       "      <td>NCT04260594</td>\n",
       "      <td>ClinicalTrials.gov</td>\n",
       "      <td>2020-02-06</td>\n",
       "      <td>2020-02-07</td>\n",
       "      <td>False</td>\n",
       "      <td>Jieming QU</td>\n",
       "      <td>Not Recruiting</td>\n",
       "      <td>Phase 4</td>\n",
       "      <td>Interventional</td>\n",
       "      <td>No Country Given</td>\n",
       "      <td>...</td>\n",
       "      <td>NaN</td>\n",
       "      <td>NaN</td>\n",
       "      <td>NaN</td>\n",
       "      <td>NaN</td>\n",
       "      <td>NaN</td>\n",
       "      <td>NaN</td>\n",
       "      <td>NaN</td>\n",
       "      <td>NaN</td>\n",
       "      <td>NaN</td>\n",
       "      <td>NaN</td>\n",
       "    </tr>\n",
       "  </tbody>\n",
       "</table>\n",
       "<p>5 rows × 33 columns</p>\n",
       "</div>"
      ],
      "text/plain": [
       "       trialid     source_register date_registration date_enrollement  \\\n",
       "0  NCT04246242  ClinicalTrials.gov        2020-01-27       2020-01-25   \n",
       "1  NCT04252885  ClinicalTrials.gov        2020-01-30       2020-01-28   \n",
       "2  NCT04255940  ClinicalTrials.gov        2020-02-03       2020-01-20   \n",
       "3  NCT04260308  ClinicalTrials.gov        2020-02-03       2020-02-03   \n",
       "4  NCT04260594  ClinicalTrials.gov        2020-02-06       2020-02-07   \n",
       "\n",
       "   retrospective_registration                              normed_spon_names  \\\n",
       "0                        True   Xiangya Hospital of Central South University   \n",
       "1                        True                Guangzhou 8th People's Hospital   \n",
       "2                        True           Qilu Hospital of Shandong University   \n",
       "3                       False  Huazhong University of Science and Technology   \n",
       "4                       False                                     Jieming QU   \n",
       "\n",
       "  recruitment_status           phase      study_type         countries  ...  \\\n",
       "0     Not Recruiting         Phase 4  Interventional  No Country Given  ...   \n",
       "1         Recruiting         Phase 4  Interventional             China  ...   \n",
       "2         Recruiting  Not Applicable   Observational             China  ...   \n",
       "3         Recruiting  Not Applicable   Observational             China  ...   \n",
       "4     Not Recruiting         Phase 4  Interventional  No Country Given  ...   \n",
       "\n",
       "  hit_tid2 auto_id_1 auto_id_2                                       doi_1  \\\n",
       "0      NaN       NaN       NaN                                         NaN   \n",
       "1      NaN  9hknw4ws  ytqjxzaa  http://doi.org/10.1101/2020.03.19.20038984   \n",
       "2      NaN       NaN       NaN                                         NaN   \n",
       "3      NaN       NaN       NaN                                         NaN   \n",
       "4      NaN       NaN       NaN                                         NaN   \n",
       "\n",
       "                                       doi_2     results_pub_type_1  \\\n",
       "0                                        NaN                    NaN   \n",
       "1  http://doi.org/10.1016/j.medj.2020.04.001  full_results_preprint   \n",
       "2                                        NaN                    NaN   \n",
       "3                                        NaN                    NaN   \n",
       "4                                        NaN                    NaN   \n",
       "\n",
       "             results_pub_type_2  pub_completion_date_1 publication_date_1  \\\n",
       "0                           NaN                    NaN                NaN   \n",
       "1  full_results_journal_article                    NaN         15/04/2020   \n",
       "2                           NaN                    NaN                NaN   \n",
       "3                           NaN                    NaN                NaN   \n",
       "4                           NaN                    NaN                NaN   \n",
       "\n",
       "  publication_date_2  \n",
       "0                NaN  \n",
       "1         04/05/2020  \n",
       "2                NaN  \n",
       "3                NaN  \n",
       "4                NaN  \n",
       "\n",
       "[5 rows x 33 columns]"
      ]
     },
     "execution_count": 17,
     "metadata": {},
     "output_type": "execute_result"
    }
   ],
   "source": [
    "df_final.head()"
   ]
  },
  {
   "cell_type": "code",
   "execution_count": 18,
   "metadata": {},
   "outputs": [],
   "source": [
    "df_final.to_csv(parent + '/data/final_dataset.csv')"
   ]
  },
  {
   "cell_type": "code",
   "execution_count": null,
   "metadata": {},
   "outputs": [],
   "source": []
  },
  {
   "cell_type": "code",
   "execution_count": null,
   "metadata": {},
   "outputs": [],
   "source": []
  },
  {
   "cell_type": "code",
   "execution_count": null,
   "metadata": {},
   "outputs": [],
   "source": []
  }
 ],
 "metadata": {
  "jupytext": {
   "cell_metadata_filter": "all",
   "notebook_metadata_filter": "all,-language_info",
   "text_representation": {
    "extension": ".py",
    "format_name": "light",
    "format_version": "1.5",
    "jupytext_version": "1.3.3"
   }
  },
  "kernelspec": {
   "display_name": "Python 3",
   "language": "python",
   "name": "python3"
  },
  "language_info": {
   "codemirror_mode": {
    "name": "ipython",
    "version": 3
   },
   "file_extension": ".py",
   "mimetype": "text/x-python",
   "name": "python",
   "nbconvert_exporter": "python",
   "pygments_lexer": "ipython3",
   "version": "3.8.1"
  }
 },
 "nbformat": 4,
 "nbformat_minor": 4
}
